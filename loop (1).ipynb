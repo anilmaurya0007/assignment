{
 "cells": [
  {
   "cell_type": "code",
   "execution_count": 3,
   "id": "b375def8-8cec-4582-9768-072b62f7b969",
   "metadata": {},
   "outputs": [],
   "source": [
    "l = [1,2,3,4,5,6]"
   ]
  },
  {
   "cell_type": "code",
   "execution_count": 20,
   "id": "f7d16b00-f32f-4cdc-a531-2db8db5a7f83",
   "metadata": {},
   "outputs": [
    {
     "data": {
      "text/plain": [
       "[1, 2, 3, 'a', 'b', 'c']"
      ]
     },
     "execution_count": 20,
     "metadata": {},
     "output_type": "execute_result"
    }
   ],
   "source": [
    "l"
   ]
  },
  {
   "cell_type": "code",
   "execution_count": 17,
   "id": "ecf9854f-e1f2-4431-bda2-6f18f028875d",
   "metadata": {},
   "outputs": [
    {
     "name": "stdout",
     "output_type": "stream",
     "text": [
      "2\n",
      "3\n",
      "4\n",
      "5\n",
      "6\n",
      "7\n"
     ]
    },
    {
     "data": {
      "text/plain": [
       "[2, 3, 4, 5, 6, 7]"
      ]
     },
     "execution_count": 17,
     "metadata": {},
     "output_type": "execute_result"
    }
   ],
   "source": [
    "l1=[]\n",
    "for i in l:\n",
    "    print(i+1)\n",
    "    l1.append(i+1)\n",
    "l1    "
   ]
  },
  {
   "cell_type": "code",
   "execution_count": 18,
   "id": "39708626-69fd-4897-b303-ba567e74a116",
   "metadata": {},
   "outputs": [
    {
     "data": {
      "text/plain": [
       "[2, 3, 4, 5, 6, 7]"
      ]
     },
     "execution_count": 18,
     "metadata": {},
     "output_type": "execute_result"
    }
   ],
   "source": [
    "l1"
   ]
  },
  {
   "cell_type": "code",
   "execution_count": 34,
   "id": "9cfb8ac3-4394-48b1-a8e1-ab72a89d9d28",
   "metadata": {},
   "outputs": [],
   "source": [
    "l =[\"anil\",\"maurya\",\"sultanpur\"]"
   ]
  },
  {
   "cell_type": "code",
   "execution_count": 41,
   "id": "9e948e65-d03e-4e9d-8dd5-b6a0c36f3e10",
   "metadata": {},
   "outputs": [
    {
     "name": "stdout",
     "output_type": "stream",
     "text": [
      "anil\n",
      "maurya\n",
      "sultanpur\n"
     ]
    }
   ],
   "source": [
    "l1 = []\n",
    "for i in l:\n",
    "    print(i)\n",
    "    l1.append(i.upper())\n",
    "    l1"
   ]
  },
  {
   "cell_type": "code",
   "execution_count": 42,
   "id": "a162a46a-db3d-4bd2-b049-ce39fb24d3b7",
   "metadata": {},
   "outputs": [
    {
     "data": {
      "text/plain": [
       "['ANIL', 'MAURYA', 'SULTANPUR']"
      ]
     },
     "execution_count": 42,
     "metadata": {},
     "output_type": "execute_result"
    }
   ],
   "source": [
    "l1"
   ]
  },
  {
   "cell_type": "code",
   "execution_count": 18,
   "id": "a366ff20-f7c5-4958-81bb-284a9578fc5f",
   "metadata": {},
   "outputs": [],
   "source": [
    "l = [1,2,3,'a','b','c']"
   ]
  },
  {
   "cell_type": "code",
   "execution_count": 15,
   "id": "f78e777b-a43c-4948-97b2-b5493fa5416f",
   "metadata": {},
   "outputs": [],
   "source": [
    "l1=[]\n",
    "l2=[]\n",
    "for i in l:\n",
    "    if type(i) == int:\n",
    "         l1.append(i)\n",
    "    else :   \n",
    "         l2.append(i)  \n",
    "            \n",
    "print([][])        "
   ]
  },
  {
   "cell_type": "code",
   "execution_count": 16,
   "id": "dd33e312-e649-4b14-af77-da52a1cb7345",
   "metadata": {},
   "outputs": [
    {
     "data": {
      "text/plain": [
       "[1, 2, 3]"
      ]
     },
     "execution_count": 16,
     "metadata": {},
     "output_type": "execute_result"
    }
   ],
   "source": [
    "l1"
   ]
  },
  {
   "cell_type": "code",
   "execution_count": 17,
   "id": "abafac6f-e330-437c-965a-0c53e974a264",
   "metadata": {},
   "outputs": [
    {
     "data": {
      "text/plain": [
       "['a', 'b', 'c']"
      ]
     },
     "execution_count": 17,
     "metadata": {},
     "output_type": "execute_result"
    }
   ],
   "source": [
    "l2"
   ]
  },
  {
   "cell_type": "code",
   "execution_count": null,
   "id": "df5d66f9-d799-4707-a457-2f9cf0372583",
   "metadata": {},
   "outputs": [],
   "source": []
  }
 ],
 "metadata": {
  "kernelspec": {
   "display_name": "Python 3 (ipykernel)",
   "language": "python",
   "name": "python3"
  },
  "language_info": {
   "codemirror_mode": {
    "name": "ipython",
    "version": 3
   },
   "file_extension": ".py",
   "mimetype": "text/x-python",
   "name": "python",
   "nbconvert_exporter": "python",
   "pygments_lexer": "ipython3",
   "version": "3.10.8"
  }
 },
 "nbformat": 4,
 "nbformat_minor": 5
}
